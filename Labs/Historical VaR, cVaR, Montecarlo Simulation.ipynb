{
 "cells": [
  {
   "cell_type": "markdown",
   "id": "a8056ac5",
   "metadata": {},
   "source": [
    "# Historical VaR"
   ]
  },
  {
   "cell_type": "markdown",
   "id": "e28b7483",
   "metadata": {},
   "source": [
    "### Setting Time Range and Tickers"
   ]
  },
  {
   "cell_type": "markdown",
   "id": "271700c1",
   "metadata": {},
   "source": [
    "First, let’s set the time range to a certain number of years and create a list of tickers we want to analyze. In this example, we’ll analyze the past 15 years of stock data."
   ]
  },
  {
   "cell_type": "code",
   "execution_count": 1,
   "id": "c89d5096",
   "metadata": {},
   "outputs": [
    {
     "name": "stderr",
     "output_type": "stream",
     "text": [
      "C:\\Users\\edfra\\anaconda3\\lib\\site-packages\\numpy\\_distributor_init.py:30: UserWarning: loaded more than 1 DLL from .libs:\n",
      "C:\\Users\\edfra\\anaconda3\\lib\\site-packages\\numpy\\.libs\\libopenblas.EL2C6PLE4ZYW3ECEVIV3OXXGRN2NRFM2.gfortran-win_amd64.dll\n",
      "C:\\Users\\edfra\\anaconda3\\lib\\site-packages\\numpy\\.libs\\libopenblas64__v0.3.21-gcc_10_3_0.dll\n",
      "  warnings.warn(\"loaded more than 1 DLL from .libs:\"\n"
     ]
    }
   ],
   "source": [
    "import numpy as np\n",
    "import pandas as pd\n",
    "import datetime as dt\n",
    "import yfinance as yf\n",
    "import matplotlib.pyplot as plt\n",
    "from scipy.stats import norm\n",
    "years = 15\n",
    "\n",
    "endDate = dt.datetime.now()\n",
    "startDate = endDate - dt.timedelta(days=365*years)\n",
    "\n",
    "tickers = ['SPY', 'BND', 'GLD', 'QQQ', 'VTI']"
   ]
  },
  {
   "cell_type": "markdown",
   "id": "910fceba",
   "metadata": {},
   "source": [
    "### Downloading Adjusted Close Prices"
   ]
  },
  {
   "cell_type": "markdown",
   "id": "21cd190e",
   "metadata": {},
   "source": [
    "Next, we will download the daily adjusted close prices for each ticker in our list using the yfinance library."
   ]
  },
  {
   "cell_type": "code",
   "execution_count": 2,
   "id": "b1210ad7",
   "metadata": {},
   "outputs": [
    {
     "name": "stdout",
     "output_type": "stream",
     "text": [
      "[*********************100%%**********************]  1 of 1 completed\n",
      "[*********************100%%**********************]  1 of 1 completed\n",
      "[*********************100%%**********************]  1 of 1 completed\n",
      "[*********************100%%**********************]  1 of 1 completed\n",
      "[*********************100%%**********************]  1 of 1 completed\n",
      "                   SPY        BND         GLD         QQQ         VTI\n",
      "Date                                                                 \n",
      "2009-03-10   54.230042  49.372162   88.139999   23.881531   27.107616\n",
      "2009-03-11   54.583195  49.476063   89.220001   24.248541   27.205917\n",
      "2009-03-12   56.732273  49.586533   91.099998   25.052452   28.324999\n",
      "2009-03-13   57.175617  49.547562   91.300003   25.113619   28.627457\n",
      "2009-03-16   57.002777  49.515079   90.800003   24.694187   28.468662\n",
      "...                ...        ...         ...         ...         ...\n",
      "2024-02-28  506.260010  71.898331  188.339996  435.269989  251.520004\n",
      "2024-02-29  508.079987  72.017998  189.309998  439.000000  252.580002\n",
      "2024-03-01  512.849976  72.320000  192.889999  445.609985  254.899994\n",
      "2024-03-04  512.299988  72.150002  196.009995  444.019989  254.649994\n",
      "2024-03-05  507.179993  72.540001  197.190002  436.049988  251.949997\n",
      "\n",
      "[3773 rows x 5 columns]\n"
     ]
    }
   ],
   "source": [
    "adj_close_df = pd.DataFrame()\n",
    "for ticker in tickers:\n",
    "    data = yf.download(ticker, start=startDate, end=endDate)\n",
    "    adj_close_df[ticker] = data['Adj Close']\n",
    "\n",
    "print(adj_close_df)"
   ]
  },
  {
   "cell_type": "markdown",
   "id": "725912ff",
   "metadata": {},
   "source": [
    "### Calculating Daily Log Returns and Dropping NAs"
   ]
  },
  {
   "cell_type": "markdown",
   "id": "4e391cf7",
   "metadata": {},
   "source": [
    "Once we have the adjusted close prices, we can calculate the daily log returns for each stock and drop any NAs from the resulting DataFrame."
   ]
  },
  {
   "cell_type": "code",
   "execution_count": 3,
   "id": "8965cae8",
   "metadata": {},
   "outputs": [
    {
     "name": "stdout",
     "output_type": "stream",
     "text": [
      "                 SPY       BND       GLD       QQQ       VTI\n",
      "Date                                                        \n",
      "2009-03-11  0.006491  0.002102  0.012179  0.015251  0.003620\n",
      "2009-03-12  0.038617  0.002230  0.020853  0.032615  0.040310\n",
      "2009-03-13  0.007784 -0.000786  0.002193  0.002439  0.010622\n",
      "2009-03-16 -0.003028 -0.000656 -0.005492 -0.016842 -0.005562\n",
      "2009-03-17  0.030125 -0.002233 -0.008405  0.037164  0.031117\n",
      "...              ...       ...       ...       ...       ...\n",
      "2024-02-28 -0.001323  0.002222  0.001807 -0.005339 -0.001668\n",
      "2024-02-29  0.003588  0.001663  0.005137  0.008533  0.004206\n",
      "2024-03-01  0.009344  0.004185  0.018734  0.014945  0.009143\n",
      "2024-03-04 -0.001073 -0.002353  0.016046 -0.003575 -0.000981\n",
      "2024-03-05 -0.010044  0.005391  0.006002 -0.018113 -0.010659\n",
      "\n",
      "[3772 rows x 5 columns]\n"
     ]
    }
   ],
   "source": [
    "log_returns = np.log(adj_close_df / adj_close_df.shift(1))\n",
    "log_returns = log_returns.dropna()\n",
    "print(log_returns)"
   ]
  },
  {
   "cell_type": "markdown",
   "id": "7f0883a8",
   "metadata": {},
   "source": [
    "### Creating a Weighted Portfolio"
   ]
  },
  {
   "cell_type": "markdown",
   "id": "ad070582",
   "metadata": {},
   "source": [
    "Now, we’ll create a weighted portfolio with a total value of $1,000,000."
   ]
  },
  {
   "cell_type": "code",
   "execution_count": 4,
   "id": "85b4e9d9",
   "metadata": {},
   "outputs": [
    {
     "name": "stdout",
     "output_type": "stream",
     "text": [
      "[0.1  0.15 0.2  0.25 0.3 ]\n"
     ]
    }
   ],
   "source": [
    "portfolio_value = 1000000\n",
    "\n",
    "weights = np.array([0.1, 0.15, 0.20, 0.25, 0.30])\n",
    "\n",
    "#weights = np.array([1/len(tickers)]*len(tickers))\n",
    "print(weights)"
   ]
  },
  {
   "cell_type": "markdown",
   "id": "dd163c75",
   "metadata": {},
   "source": [
    "### Calculating Historical Portfolio Returns"
   ]
  },
  {
   "cell_type": "markdown",
   "id": "3da52be3",
   "metadata": {},
   "source": [
    "With the weights defined, we can now calculate the historical portfolio returns."
   ]
  },
  {
   "cell_type": "code",
   "execution_count": 5,
   "id": "191d81bb",
   "metadata": {},
   "outputs": [
    {
     "name": "stdout",
     "output_type": "stream",
     "text": [
      "Date\n",
      "2009-03-11    0.008299\n",
      "2009-03-12    0.028614\n",
      "2009-03-13    0.004895\n",
      "2009-03-16   -0.007379\n",
      "2009-03-17    0.019623\n",
      "                ...   \n",
      "2024-02-28   -0.001273\n",
      "2024-02-29    0.005031\n",
      "2024-03-01    0.011788\n",
      "2024-03-04    0.001561\n",
      "2024-03-05   -0.006721\n",
      "Length: 3772, dtype: float64\n"
     ]
    }
   ],
   "source": [
    "historical_returns = (log_returns * weights).sum(axis =1)\n",
    "print(historical_returns)"
   ]
  },
  {
   "cell_type": "markdown",
   "id": "472cb07a",
   "metadata": {},
   "source": [
    "### Finding X-Day Historical Returns"
   ]
  },
  {
   "cell_type": "markdown",
   "id": "0bdd28d3",
   "metadata": {},
   "source": [
    "Next, we’ll find the X-day historical returns. In this example, we’ll use a 1-day window."
   ]
  },
  {
   "cell_type": "code",
   "execution_count": 6,
   "id": "5c3cf789",
   "metadata": {},
   "outputs": [
    {
     "name": "stdout",
     "output_type": "stream",
     "text": [
      "Date\n",
      "2009-03-11    0.008299\n",
      "2009-03-12    0.028614\n",
      "2009-03-13    0.004895\n",
      "2009-03-16   -0.007379\n",
      "2009-03-17    0.019623\n",
      "                ...   \n",
      "2024-02-28   -0.001273\n",
      "2024-02-29    0.005031\n",
      "2024-03-01    0.011788\n",
      "2024-03-04    0.001561\n",
      "2024-03-05   -0.006721\n",
      "Length: 3772, dtype: float64\n"
     ]
    }
   ],
   "source": [
    "days = 1\n",
    "\n",
    "range_returns = historical_returns.rolling(window = days).sum()\n",
    "range_returns = range_returns.dropna()\n",
    "print(range_returns)"
   ]
  },
  {
   "cell_type": "markdown",
   "id": "cbfa1cd9",
   "metadata": {},
   "source": [
    "### Calculating VaR Using the Historical Method"
   ]
  },
  {
   "cell_type": "markdown",
   "id": "406db184",
   "metadata": {},
   "source": [
    "Now, we can specify a confidence interval and calculate the Value at Risk (VaR) using the historical method."
   ]
  },
  {
   "cell_type": "code",
   "execution_count": 7,
   "id": "be7ce43d",
   "metadata": {},
   "outputs": [],
   "source": [
    "#confidence_interval = 0.95\n",
    "#VaR = -np.percentile(range_returns, 100 - (confidence_interval * 100))*portfolio_value\n",
    "#print(VaR)"
   ]
  },
  {
   "cell_type": "code",
   "execution_count": 8,
   "id": "aa670caf",
   "metadata": {},
   "outputs": [],
   "source": [
    "confidence_interval = [0.90, 0.95, 0.99]\n",
    "significance = [10,5,1]\n",
    "\n",
    "\n",
    "VaRs = []\n",
    "for ci in significance:\n",
    "    VaR = -np.percentile(range_returns, significance)*portfolio_value\n",
    "    VaRs.append(VaR)"
   ]
  },
  {
   "cell_type": "code",
   "execution_count": 9,
   "id": "4607fe78",
   "metadata": {},
   "outputs": [
    {
     "data": {
      "text/plain": [
       "array([ 8424.16091956, 12433.53716386, 22004.20394261])"
      ]
     },
     "execution_count": 9,
     "metadata": {},
     "output_type": "execute_result"
    }
   ],
   "source": [
    "VaR"
   ]
  },
  {
   "cell_type": "code",
   "execution_count": 10,
   "id": "eb78d71d",
   "metadata": {},
   "outputs": [],
   "source": [
    "Historical_VaR=VaR"
   ]
  },
  {
   "cell_type": "code",
   "execution_count": 11,
   "id": "f5da2ad7",
   "metadata": {},
   "outputs": [
    {
     "name": "stdout",
     "output_type": "stream",
     "text": [
      "Confidence Level     Value at Risk       \n",
      "----------------------------------------\n",
      "    90%:          $  8,424.16\n",
      "    95%:          $ 12,433.54\n",
      "    99%:          $ 22,004.20\n"
     ]
    }
   ],
   "source": [
    "print(f'{\"Confidence Level\":<20} {\"Value at Risk\":<20}')\n",
    "print('-' * 40)\n",
    "\n",
    "\n",
    "for ci, VaR in zip(confidence_interval, VaR):\n",
    "    print(f'{ci * 100:>6.0f}%: {\"\":<8} ${VaR.astype(float):>10,.2f}')\n",
    "    #print(f'{ci * 100:>6.0f}%: {\"\":<8} ${VaR:>10,.2f}')"
   ]
  },
  {
   "cell_type": "markdown",
   "id": "9b9fa95c",
   "metadata": {},
   "source": [
    "### Plotting the Results of the Historical Returns"
   ]
  },
  {
   "cell_type": "markdown",
   "id": "3e3765e5",
   "metadata": {},
   "source": [
    "Finally, let’s plot the results of the historical returns to visualize the distribution of portfolio returns and the VaR at the specified confidence level."
   ]
  },
  {
   "cell_type": "code",
   "execution_count": 12,
   "id": "08e693dc",
   "metadata": {},
   "outputs": [],
   "source": [
    "#return_window = days\n",
    "#range_returns = historical_returns.rolling(window=return_window).sum()\n",
    "#range_returns = range_returns.dropna()\n",
    "\n",
    "#range_returns_dollar = range_returns * portfolio_value\n",
    "\n",
    "#plt.hist(range_returns_dollar.dropna(), bins=50, density=True)\n",
    "#plt.xlabel(f'{return_window}-Day Portfolio Return (Dollar Value)')\n",
    "#plt.ylabel('Frequency')\n",
    "#plt.title(f'Distribution of Portfolio {return_window}-Day Returns (Dollar Value)')\n",
    "#plt.axvline(-VaR, color='r', linestyle='dashed', linewidth=2, label=f'VaR at {confidence_interval:.0%} confidence level')\n",
    "#plt.legend()\n",
    "#plt.show()"
   ]
  },
  {
   "cell_type": "code",
   "execution_count": 13,
   "id": "df9fcd64",
   "metadata": {},
   "outputs": [
    {
     "data": {
      "image/png": "[encoded data removed]",
      "text/plain": [
       "<Figure size 432x288 with 1 Axes>"
      ]
     },
     "metadata": {
      "needs_background": "light"
     },
     "output_type": "display_data"
    }
   ],
   "source": [
    "#return_window = days\n",
    "#range_returns = historical_returns.rolling(window=return_window).sum()\n",
    "#range_returns = range_returns.dropna()\n",
    "\n",
    "range_returns_dollar = range_returns * portfolio_value\n",
    "\n",
    "# Plot the histogram\n",
    "plt.hist(range_returns_dollar, bins=50, density=True, alpha=0.5, label=f'{days}-Day Returns')\n",
    "\n",
    "# Add vertical lines representing VaR at each confidence level\n",
    "for ci, VaR_ in zip(confidence_interval, VaRs):\n",
    "    plt.axvline(x=-VaR, linestyle='--', color='r', label='VaR at {}% Confidence'.format(int(ci * 100)))\n",
    "\n",
    "plt.xlabel(f'{days}-Day Portfolio Return ($)')\n",
    "plt.ylabel('Frequency')\n",
    "plt.title(f'Distribution of Portfolio {days}-Day Returns and Parametric VaR Estimates')\n",
    "plt.legend()\n",
    "plt.show()"
   ]
  },
  {
   "cell_type": "markdown",
   "id": "30fa6ef4",
   "metadata": {},
   "source": [
    "In a Five-Day Period at a 95 level of confidence the worst thing that could happen at worth fifth percentile is we'd lose about 25861 usd."
   ]
  },
  {
   "cell_type": "markdown",
   "id": "5d1e620d",
   "metadata": {},
   "source": [
    "# Parametric VaR"
   ]
  },
  {
   "cell_type": "markdown",
   "id": "7e14d604",
   "metadata": {},
   "source": [
    "We will find the rolling sum of historical returns for a specified number of days:"
   ]
  },
  {
   "cell_type": "code",
   "execution_count": 14,
   "id": "270a2417",
   "metadata": {},
   "outputs": [],
   "source": [
    "days = 1\n",
    "historical_x_day_returns = historical_returns.rolling(window=days).sum()"
   ]
  },
  {
   "cell_type": "markdown",
   "id": "b054076a",
   "metadata": {},
   "source": [
    "### Create Covariance Matrix and Calculate Portfolio Standard Deviation"
   ]
  },
  {
   "cell_type": "markdown",
   "id": "ee1ef2ff",
   "metadata": {},
   "source": [
    "Now, we will create a covariance matrix for all the securities and calculate the portfolio standard deviation:"
   ]
  },
  {
   "cell_type": "code",
   "execution_count": 15,
   "id": "7b6ec233",
   "metadata": {},
   "outputs": [],
   "source": [
    "cov_matrix = log_returns.cov() * 252 #252 because it's 252 days in trade\n",
    "portfolio_std_dev = np.sqrt(weights.T @ cov_matrix @ weights)"
   ]
  },
  {
   "cell_type": "markdown",
   "id": "ced9e5dc",
   "metadata": {},
   "source": [
    "### Calculate VaR at Different Confidence Levels"
   ]
  },
  {
   "cell_type": "markdown",
   "id": "6c4f1027",
   "metadata": {},
   "source": [
    "We will calculate the Value at Risk (VaR) at different confidence levels:"
   ]
  },
  {
   "cell_type": "code",
   "execution_count": 16,
   "id": "2b588a25",
   "metadata": {},
   "outputs": [],
   "source": [
    "from scipy.stats import norm\n",
    "\n",
    "confidence_levels = [0.90, 0.95, 0.99]\n",
    "\n",
    "VaRs = []\n",
    "for cl in confidence_levels:\n",
    "    VaR = portfolio_value * portfolio_std_dev * norm.ppf(cl) * np.sqrt(days / 252)\n",
    "    VaRs.append(VaR)"
   ]
  },
  {
   "cell_type": "markdown",
   "id": "e13b94a5",
   "metadata": {},
   "source": [
    "### Print VaR Results"
   ]
  },
  {
   "cell_type": "markdown",
   "id": "868075a1",
   "metadata": {},
   "source": [
    "Let’s print the VaR results for each confidence level:"
   ]
  },
  {
   "cell_type": "code",
   "execution_count": 17,
   "id": "afc476f2",
   "metadata": {},
   "outputs": [
    {
     "name": "stdout",
     "output_type": "stream",
     "text": [
      "Confidence Level     Value at Risk       \n",
      "----------------------------------------\n",
      "    90%:          $ 10,315.20\n",
      "    95%:          $ 13,239.41\n",
      "    99%:          $ 18,724.75\n"
     ]
    }
   ],
   "source": [
    "print(f'{\"Confidence Level\":<20} {\"Value at Risk\":<20}')\n",
    "print('-' * 40)\n",
    "\n",
    "for cl, VaR in zip(confidence_levels, VaRs):\n",
    "    print(f'{cl * 100:>6.0f}%: {\"\":<8} ${VaR:>10,.2f}')"
   ]
  },
  {
   "cell_type": "markdown",
   "id": "e6a67c5e",
   "metadata": {},
   "source": [
    "### Plot the Distribution of Portfolio Returns and Parametric VaR Estimates"
   ]
  },
  {
   "cell_type": "markdown",
   "id": "387151b8",
   "metadata": {},
   "source": [
    "Finally, we will plot the distribution of the X-day portfolio returns and the parametric VaR estimates:"
   ]
  },
  {
   "cell_type": "code",
   "execution_count": 18,
   "id": "7c0e4ad3",
   "metadata": {},
   "outputs": [
    {
     "data": {
      "image/png": "[encoded data removed]",
      "text/plain": [
       "<Figure size 432x288 with 1 Axes>"
      ]
     },
     "metadata": {
      "needs_background": "light"
     },
     "output_type": "display_data"
    }
   ],
   "source": [
    "# Convert returns to dollar values for the histogram\n",
    "historical_x_day_returns_dollar = historical_x_day_returns * portfolio_value\n",
    "\n",
    "# Plot the histogram\n",
    "plt.hist(historical_x_day_returns_dollar, bins=50, density=True, alpha=0.5, label=f'{days}-Day Returns')\n",
    "\n",
    "# Add vertical lines representing VaR at each confidence level\n",
    "for cl, VaR in zip(confidence_levels, VaRs):\n",
    "    plt.axvline(x=-VaR, linestyle='--', color='r', label='VaR at {}% Confidence'.format(int(cl * 100)))\n",
    "\n",
    "plt.xlabel(f'{days}-Day Portfolio Return ($)')\n",
    "plt.ylabel('Frequency')\n",
    "plt.title(f'Distribution of Portfolio {days}-Day Returns and Parametric VaR Estimates')\n",
    "plt.legend()\n",
    "plt.show()"
   ]
  },
  {
   "cell_type": "markdown",
   "id": "27db0b50",
   "metadata": {},
   "source": [
    "# cVaR"
   ]
  },
  {
   "cell_type": "code",
   "execution_count": 19,
   "id": "b03acbb4",
   "metadata": {},
   "outputs": [],
   "source": [
    "con=[0,1,2]\n",
    "Historical_VaR= Historical_VaR/1000000\n",
    "cVaRs = []\n",
    "for c in con:\n",
    "    cVaR = -np.mean(range_returns[range_returns < -Historical_VaR[c]])*portfolio_value\n",
    "    cVaRs.append(cVaR)"
   ]
  },
  {
   "cell_type": "code",
   "execution_count": 20,
   "id": "9d5f5e54",
   "metadata": {},
   "outputs": [
    {
     "name": "stdout",
     "output_type": "stream",
     "text": [
      "Confidence Level     Value at Risk       \n",
      "----------------------------------------\n",
      "    90%:          $ 14,646.07\n",
      "    95%:          $ 19,130.76\n",
      "    99%:          $ 31,551.30\n"
     ]
    }
   ],
   "source": [
    "print(f'{\"Confidence Level\":<20} {\"Value at Risk\":<20}')\n",
    "print('-' * 40)\n",
    "\n",
    "for cl, cVaR in zip(confidence_levels, cVaRs):\n",
    "    print(f'{cl * 100:>6.0f}%: {\"\":<8} ${cVaR:>10,.2f}')"
   ]
  },
  {
   "cell_type": "code",
   "execution_count": 21,
   "id": "abdb3e67",
   "metadata": {},
   "outputs": [
    {
     "data": {
      "image/png": "[encoded data removed]",
      "text/plain": [
       "<Figure size 432x288 with 1 Axes>"
      ]
     },
     "metadata": {
      "needs_background": "light"
     },
     "output_type": "display_data"
    }
   ],
   "source": [
    "range_returns_dollar = range_returns * portfolio_value\n",
    "\n",
    "# Plot the histogram\n",
    "plt.hist(range_returns_dollar, bins=50, density=True, alpha=0.5, label=f'{days}-Day Returns')\n",
    "\n",
    "# Add vertical lines representing VaR at each confidence level\n",
    "for ci, cVaR in zip(confidence_interval, cVaRs):\n",
    "    plt.axvline(x=-cVaR, linestyle='--', color='r', label='cVaR at {}% Confidence'.format(int(ci * 100)))\n",
    "\n",
    "plt.xlabel(f'{days}-Day Portfolio Return ($)')\n",
    "plt.ylabel('Frequency')\n",
    "plt.title(f'Distribution of Portfolio {days}-Day Returns and Parametric VaR Estimates')\n",
    "plt.legend()\n",
    "plt.show()"
   ]
  },
  {
   "cell_type": "markdown",
   "id": "2424db67",
   "metadata": {},
   "source": [
    "## VaR through MonteCarlo Simulation"
   ]
  },
  {
   "cell_type": "code",
   "execution_count": 22,
   "id": "20696d0f",
   "metadata": {},
   "outputs": [],
   "source": [
    "### Set time from to a certain number of years\n",
    "years = 15\n",
    "\n",
    "endDate = dt.datetime.now()\n",
    "startDate = endDate - dt.timedelta(days = 365*years)\n",
    "\n",
    "### Create a list of tickers\n",
    "tickers = ['SPY','BND','GLD','QQQ','VTI']"
   ]
  },
  {
   "cell_type": "code",
   "execution_count": 23,
   "id": "0857cfa6",
   "metadata": {},
   "outputs": [
    {
     "name": "stdout",
     "output_type": "stream",
     "text": [
      "[*********************100%%**********************]  1 of 1 completed\n",
      "[*********************100%%**********************]  1 of 1 completed\n",
      "[*********************100%%**********************]  1 of 1 completed\n",
      "[*********************100%%**********************]  1 of 1 completed\n",
      "[*********************100%%**********************]  1 of 1 completed\n",
      "                   SPY        BND         GLD         QQQ         VTI\n",
      "Date                                                                 \n",
      "2009-03-10   54.230042  49.372120   88.139999   23.881540   27.107605\n",
      "2009-03-11   54.583191  49.476112   89.220001   24.248549   27.205904\n",
      "2009-03-12   56.732235  49.586517   91.099998   25.052450   28.324987\n",
      "2009-03-13   57.175606  49.547573   91.300003   25.113623   28.627459\n",
      "2009-03-16   57.002781  49.515064   90.800003   24.694187   28.468658\n",
      "...                ...        ...         ...         ...         ...\n",
      "2024-02-28  506.260010  71.898331  188.339996  435.269989  251.520004\n",
      "2024-02-29  508.079987  72.017998  189.309998  439.000000  252.580002\n",
      "2024-03-01  512.849976  72.320000  192.889999  445.609985  254.899994\n",
      "2024-03-04  512.299988  72.150002  196.009995  444.019989  254.649994\n",
      "2024-03-05  507.179993  72.540001  197.190002  436.049988  251.949997\n",
      "\n",
      "[3773 rows x 5 columns]\n"
     ]
    }
   ],
   "source": [
    "### Download the daily adjusted close prices for the tickers\n",
    "adj_close_df = pd.DataFrame()\n",
    "\n",
    "for ticker in tickers:\n",
    "    data = yf.download(ticker, start = startDate, end = endDate)\n",
    "    adj_close_df[ticker] = data['Adj Close']\n",
    "\n",
    "print(adj_close_df)"
   ]
  },
  {
   "cell_type": "code",
   "execution_count": 24,
   "id": "062e9f51",
   "metadata": {},
   "outputs": [
    {
     "name": "stdout",
     "output_type": "stream",
     "text": [
      "                 SPY       BND       GLD       QQQ       VTI\n",
      "Date                                                        \n",
      "2009-03-11  0.006491  0.002104  0.012179  0.015251  0.003620\n",
      "2009-03-12  0.038617  0.002229  0.020853  0.032615  0.040310\n",
      "2009-03-13  0.007785 -0.000786  0.002193  0.002439  0.010622\n",
      "2009-03-16 -0.003027 -0.000656 -0.005492 -0.016843 -0.005563\n",
      "2009-03-17  0.030125 -0.002233 -0.008405  0.037164  0.031117\n",
      "...              ...       ...       ...       ...       ...\n",
      "2024-02-28 -0.001323  0.002222  0.001807 -0.005339 -0.001668\n",
      "2024-02-29  0.003588  0.001663  0.005137  0.008533  0.004206\n",
      "2024-03-01  0.009344  0.004185  0.018734  0.014945  0.009143\n",
      "2024-03-04 -0.001073 -0.002353  0.016046 -0.003575 -0.000981\n",
      "2024-03-05 -0.010044  0.005391  0.006002 -0.018113 -0.010659\n",
      "\n",
      "[3772 rows x 5 columns]\n"
     ]
    }
   ],
   "source": [
    "### Calculate the daily log returns and drop any NAs\n",
    "log_returns = np.log(adj_close_df/adj_close_df.shift(1))\n",
    "log_returns  = log_returns.dropna()\n",
    "\n",
    "print(log_returns)"
   ]
  },
  {
   "cell_type": "code",
   "execution_count": 25,
   "id": "5c57f7ea",
   "metadata": {},
   "outputs": [],
   "source": [
    "### Create a function that will be used to calculate portfolio expected return *We are assuming that future returns are based on past returns, which is not a reliable assumption.\n",
    "def expected_return(weights, log_returns):\n",
    "    return np.sum(log_returns.mean()*weights)\n",
    "\n",
    "### Create a function that will be used to calculate portfolio standard deviation\n",
    "def standard_deviation (weights, cov_matrix):\n",
    "    variance = weights.T @ cov_matrix @ weights\n",
    "    return np.sqrt(variance)"
   ]
  },
  {
   "cell_type": "code",
   "execution_count": 26,
   "id": "55d69a7f",
   "metadata": {},
   "outputs": [
    {
     "name": "stdout",
     "output_type": "stream",
     "text": [
      "              SPY           BND       GLD           QQQ           VTI\n",
      "SPY  1.235297e-04 -4.356883e-07  0.000007  1.338802e-04  1.260819e-04\n",
      "BND -4.356883e-07  9.250863e-06  0.000009  4.276142e-07 -2.590029e-07\n",
      "GLD  6.715267e-06  8.903255e-06  0.000098  7.114650e-06  7.244827e-06\n",
      "QQQ  1.338802e-04  4.276142e-07  0.000007  1.693041e-04  1.369422e-04\n",
      "VTI  1.260819e-04 -2.590029e-07  0.000007  1.369422e-04  1.297803e-04\n"
     ]
    }
   ],
   "source": [
    "### Create a covariance matrix for all the securities\n",
    "cov_matrix = log_returns.cov()\n",
    "print(cov_matrix)"
   ]
  },
  {
   "cell_type": "code",
   "execution_count": 27,
   "id": "96d5e919",
   "metadata": {},
   "outputs": [],
   "source": [
    "### Create an equally weighted portfolio and find total portfolio expected return and standard deviation\n",
    "portfolio_value = 1000000\n",
    "#weights = np.array([0.1, 0.15, 0.20, 0.25, 0.30])\n",
    "weights = np.array([1/len(tickers)]*len(tickers))\n",
    "portfolio_expected_return = expected_return(weights, log_returns)\n",
    "portfolio_std_dev = standard_deviation (weights, cov_matrix)"
   ]
  },
  {
   "cell_type": "code",
   "execution_count": 28,
   "id": "d0b8c8e6",
   "metadata": {},
   "outputs": [],
   "source": [
    "def random_z_score():\n",
    "    return np.random.normal(0, 1)\n",
    "\n",
    "### Create a function to calculate scenarioGainLoss\n",
    "days = 20\n",
    "\n",
    "#This function incorporates volatility\n",
    "def scenario_gain_loss(portfolio_value, portfolio_std_dev, z_score, days):\n",
    "    return portfolio_value * portfolio_expected_return * days + portfolio_value * portfolio_std_dev * z_score * np.sqrt(days)"
   ]
  },
  {
   "cell_type": "code",
   "execution_count": 29,
   "id": "bdf0c996",
   "metadata": {},
   "outputs": [],
   "source": [
    "### Run 10000 simulations\n",
    "simulations = 10000\n",
    "scenarioReturn = []\n",
    "\n",
    "for i in range(simulations):\n",
    "    z_score = random_z_score()\n",
    "    scenarioReturn.append(scenario_gain_loss(portfolio_value, portfolio_std_dev, z_score, days))"
   ]
  },
  {
   "cell_type": "code",
   "execution_count": 30,
   "id": "9388f844",
   "metadata": {},
   "outputs": [
    {
     "name": "stdout",
     "output_type": "stream",
     "text": [
      "69225.42323429706\n"
     ]
    }
   ],
   "source": [
    "### Specify a confidence interval and calculate the Value at Risk (VaR)\n",
    "confidence_interval = 0.99\n",
    "VaR = -np.percentile(scenarioReturn, 100 * (1 - confidence_interval))\n",
    "print(VaR)"
   ]
  },
  {
   "cell_type": "code",
   "execution_count": 31,
   "id": "10698f35",
   "metadata": {},
   "outputs": [
    {
     "data": {
      "image/png": "[encoded data removed]",
      "text/plain": [
       "<Figure size 432x288 with 1 Axes>"
      ]
     },
     "metadata": {
      "needs_background": "light"
     },
     "output_type": "display_data"
    }
   ],
   "source": [
    "### Plot the results of all 10000 scenarios\n",
    "plt.hist(scenarioReturn, bins=50, density=True)\n",
    "plt.xlabel('Scenario Gain/Loss ($)')\n",
    "plt.ylabel('Frequency')\n",
    "plt.title(f'Distribution of Portfolio Gain/Loss Over {days} Days')\n",
    "plt.axvline(-VaR, color='r', linestyle='dashed', linewidth=2, label=f'VaR at {confidence_interval:.0%} confidence level')\n",
    "plt.legend()\n",
    "plt.show()"
   ]
  },
  {
   "cell_type": "code",
   "execution_count": null,
   "id": "517d80a7",
   "metadata": {},
   "outputs": [],
   "source": []
  },
  {
   "cell_type": "code",
   "execution_count": null,
   "id": "dfbcc9c6",
   "metadata": {},
   "outputs": [],
   "source": []
  },
  {
   "cell_type": "code",
   "execution_count": null,
   "id": "aeda2c43",
   "metadata": {},
   "outputs": [],
   "source": []
  },
  {
   "cell_type": "code",
   "execution_count": null,
   "id": "11415988",
   "metadata": {},
   "outputs": [],
   "source": []
  },
  {
   "cell_type": "code",
   "execution_count": null,
   "id": "16337b67",
   "metadata": {},
   "outputs": [],
   "source": []
  }
 ],
 "metadata": {
  "kernelspec": {
   "display_name": "Python 3",
   "language": "python",
   "name": "python3"
  },
  "language_info": {
   "codemirror_mode": {
    "name": "ipython",
    "version": 3
   },
   "file_extension": ".py",
   "mimetype": "text/x-python",
   "name": "python",
   "nbconvert_exporter": "python",
   "pygments_lexer": "ipython3",
   "version": "3.8.8"
  }
 },
 "nbformat": 4,
 "nbformat_minor": 5
}
