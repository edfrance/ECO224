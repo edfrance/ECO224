{
 "cells": [
  {
   "cell_type": "code",
   "execution_count": 1,
   "id": "d95d7e25",
   "metadata": {},
   "outputs": [
    {
     "name": "stderr",
     "output_type": "stream",
     "text": [
      "C:\\Users\\edfra\\anaconda3\\lib\\site-packages\\scipy\\__init__.py:138: UserWarning: A NumPy version >=1.16.5 and <1.23.0 is required for this version of SciPy (detected version 1.24.4)\n",
      "  warnings.warn(f\"A NumPy version >={np_minversion} and <{np_maxversion} is required for this version of \"\n"
     ]
    }
   ],
   "source": [
    "import numpy as np\n",
    "import pandas as pd\n",
    "import datetime as dt\n",
    "import yfinance as yf\n",
    "import matplotlib.pyplot as plt\n",
    "from scipy.stats import norm"
   ]
  },
  {
   "cell_type": "code",
   "execution_count": 2,
   "id": "de123144",
   "metadata": {},
   "outputs": [],
   "source": [
    "### Set time from to a certain number of years\n",
    "years = 15\n",
    "\n",
    "endDate = dt.datetime.now()\n",
    "startDate = endDate - dt.timedelta(days = 365*years)\n",
    "\n",
    "### Create a list of tickers\n",
    "tickers = ['SPY','BND','GLD','QQQ','VTI']"
   ]
  },
  {
   "cell_type": "code",
   "execution_count": 3,
   "id": "4822145f",
   "metadata": {},
   "outputs": [
    {
     "name": "stdout",
     "output_type": "stream",
     "text": [
      "[*********************100%%**********************]  1 of 1 completed\n",
      "[*********************100%%**********************]  1 of 1 completed\n",
      "[*********************100%%**********************]  1 of 1 completed\n",
      "[*********************100%%**********************]  1 of 1 completed\n",
      "[*********************100%%**********************]  1 of 1 completed\n",
      "                   SPY        BND         GLD         QQQ         VTI\n",
      "Date                                                                 \n",
      "2008-10-14   74.726959  47.714626   82.199997   29.400589   37.386951\n",
      "2008-10-15   67.370262  47.423683   83.309998   26.767569   33.890163\n",
      "2008-10-16   70.176743  47.417213   79.290001   28.219673   35.450153\n",
      "2008-10-17   69.757607  47.675827   77.209999   28.254658   35.118557\n",
      "2008-10-20   73.948624  47.656464   78.500000   29.041939   36.919704\n",
      "...                ...        ...         ...         ...         ...\n",
      "2023-10-04  424.660004  69.000000  169.139999  359.750000  210.559998\n",
      "2023-10-05  424.500000  69.050003  168.830002  358.690002  210.449997\n",
      "2023-10-06  429.540009  68.779999  169.699997  364.700012  212.960007\n",
      "2023-10-09  432.290009  69.480003  172.820007  366.559998  214.300003\n",
      "2023-10-10  434.540009  69.410004  172.529999  368.589996  215.630005\n",
      "\n",
      "[3773 rows x 5 columns]\n"
     ]
    }
   ],
   "source": [
    "### Download the daily adjusted close prices for the tickers\n",
    "adj_close_df = pd.DataFrame()\n",
    "\n",
    "for ticker in tickers:\n",
    "    data = yf.download(ticker, start = startDate, end = endDate)\n",
    "    adj_close_df[ticker] = data['Adj Close']\n",
    "\n",
    "print(adj_close_df)"
   ]
  },
  {
   "cell_type": "code",
   "execution_count": 4,
   "id": "e58b06e0",
   "metadata": {},
   "outputs": [
    {
     "name": "stdout",
     "output_type": "stream",
     "text": [
      "                 SPY       BND       GLD       QQQ       VTI\n",
      "Date                                                        \n",
      "2008-10-15 -0.103637 -0.006116  0.013413 -0.093824 -0.098197\n",
      "2008-10-16  0.040813 -0.000136 -0.049457  0.052828  0.045003\n",
      "2008-10-17 -0.005990  0.005439 -0.026583  0.001239 -0.009398\n",
      "2008-10-20  0.058344 -0.000406  0.016570  0.027483  0.050016\n",
      "2008-10-21 -0.030310  0.016949 -0.031971 -0.053198 -0.030676\n",
      "...              ...       ...       ...       ...       ...\n",
      "2023-10-04  0.007256  0.006543 -0.000118  0.013517  0.007197\n",
      "2023-10-05 -0.000377  0.000724 -0.001834 -0.002951 -0.000523\n",
      "2023-10-06  0.011803 -0.003918  0.005140  0.016617  0.011856\n",
      "2023-10-09  0.006382  0.010126  0.018218  0.005087  0.006273\n",
      "2023-10-10  0.005191 -0.001008 -0.001680  0.005523  0.006187\n",
      "\n",
      "[3772 rows x 5 columns]\n"
     ]
    }
   ],
   "source": [
    "### Calculate the daily log returns and drop any NAs\n",
    "log_returns = np.log(adj_close_df/adj_close_df.shift(1))\n",
    "log_returns  = log_returns.dropna()\n",
    "\n",
    "print(log_returns)"
   ]
  },
  {
   "cell_type": "code",
   "execution_count": 5,
   "id": "ea17c1df",
   "metadata": {},
   "outputs": [],
   "source": [
    "### Create a function that will be used to calculate portfolio expected return *We are assuming that future returns are based on past returns, which is not a reliable assumption.\n",
    "def expected_return(weights, log_returns):\n",
    "    return np.sum(log_returns.mean()*weights)\n",
    "\n",
    "### Create a function that will be used to calculate portfolio standard deviation\n",
    "def standard_deviation (weights, cov_matrix):\n",
    "    variance = weights.T @ cov_matrix @ weights\n",
    "    return np.sqrt(variance)"
   ]
  },
  {
   "cell_type": "code",
   "execution_count": 6,
   "id": "85025e73",
   "metadata": {},
   "outputs": [
    {
     "name": "stdout",
     "output_type": "stream",
     "text": [
      "          SPY           BND       GLD           QQQ       VTI\n",
      "SPY  0.000154 -1.613981e-06  0.000011  1.604535e-04  0.000156\n",
      "BND -0.000002  9.457163e-06  0.000008 -9.784188e-07 -0.000001\n",
      "GLD  0.000011  8.308013e-06  0.000109  1.044705e-05  0.000011\n",
      "QQQ  0.000160 -9.784188e-07  0.000010  1.937958e-04  0.000163\n",
      "VTI  0.000156 -1.490096e-06  0.000011  1.629983e-04  0.000159\n"
     ]
    }
   ],
   "source": [
    "### Create a covariance matrix for all the securities\n",
    "cov_matrix = log_returns.cov()\n",
    "print(cov_matrix)"
   ]
  },
  {
   "cell_type": "code",
   "execution_count": 7,
   "id": "ec1dc219",
   "metadata": {},
   "outputs": [],
   "source": [
    "### Create an equally weighted portfolio and find total portfolio expected return and standard deviation\n",
    "portfolio_value = 1000000\n",
    "#weights = np.array([0.1, 0.15, 0.20, 0.25, 0.30])\n",
    "weights = np.array([1/len(tickers)]*len(tickers))\n",
    "portfolio_expected_return = expected_return(weights, log_returns)\n",
    "portfolio_std_dev = standard_deviation (weights, cov_matrix)"
   ]
  },
  {
   "cell_type": "code",
   "execution_count": 8,
   "id": "6e5786fb",
   "metadata": {},
   "outputs": [],
   "source": [
    "def random_z_score():\n",
    "    return np.random.normal(0, 1)\n",
    "\n",
    "### Create a function to calculate scenarioGainLoss\n",
    "days = 20\n",
    "\n",
    "#This function incorporates volatility\n",
    "def scenario_gain_loss(portfolio_value, portfolio_std_dev, z_score, days):\n",
    "    return portfolio_value * portfolio_expected_return * days + portfolio_value * portfolio_std_dev * z_score * np.sqrt(days)"
   ]
  },
  {
   "cell_type": "code",
   "execution_count": 9,
   "id": "b4617f57",
   "metadata": {},
   "outputs": [],
   "source": [
    "### Run 10000 simulations\n",
    "simulations = 10000\n",
    "scenarioReturn = []\n",
    "\n",
    "for i in range(simulations):\n",
    "    z_score = random_z_score()\n",
    "    scenarioReturn.append(scenario_gain_loss(portfolio_value, portfolio_std_dev, z_score, days))"
   ]
  },
  {
   "cell_type": "code",
   "execution_count": 10,
   "id": "f38d194b",
   "metadata": {},
   "outputs": [
    {
     "name": "stdout",
     "output_type": "stream",
     "text": [
      "76843.8967340014\n"
     ]
    }
   ],
   "source": [
    "### Specify a confidence interval and calculate the Value at Risk (VaR)\n",
    "confidence_interval = 0.99\n",
    "VaR = -np.percentile(scenarioReturn, 100 * (1 - confidence_interval))\n",
    "print(VaR)"
   ]
  },
  {
   "cell_type": "code",
   "execution_count": 11,
   "id": "35485398",
   "metadata": {},
   "outputs": [
    {
     "data": {
      "image/png": "[encoded data removed]",
      "text/plain": [
       "<Figure size 432x288 with 1 Axes>"
      ]
     },
     "metadata": {
      "needs_background": "light"
     },
     "output_type": "display_data"
    }
   ],
   "source": [
    "### Plot the results of all 10000 scenarios\n",
    "plt.hist(scenarioReturn, bins=50, density=True)\n",
    "plt.xlabel('Scenario Gain/Loss ($)')\n",
    "plt.ylabel('Frequency')\n",
    "plt.title(f'Distribution of Portfolio Gain/Loss Over {days} Days')\n",
    "plt.axvline(-VaR, color='r', linestyle='dashed', linewidth=2, label=f'VaR at {confidence_interval:.0%} confidence level')\n",
    "plt.legend()\n",
    "plt.show()"
   ]
  },
  {
   "cell_type": "code",
   "execution_count": null,
   "id": "c2b5a719",
   "metadata": {},
   "outputs": [],
   "source": []
  },
  {
   "cell_type": "code",
   "execution_count": null,
   "id": "fd1377b0",
   "metadata": {},
   "outputs": [],
   "source": []
  }
 ],
 "metadata": {
  "kernelspec": {
   "display_name": "Python 3",
   "language": "python",
   "name": "python3"
  },
  "language_info": {
   "codemirror_mode": {
    "name": "ipython",
    "version": 3
   },
   "file_extension": ".py",
   "mimetype": "text/x-python",
   "name": "python",
   "nbconvert_exporter": "python",
   "pygments_lexer": "ipython3",
   "version": "3.8.8"
  }
 },
 "nbformat": 4,
 "nbformat_minor": 5
}
