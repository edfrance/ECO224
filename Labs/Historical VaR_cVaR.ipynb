{
 "cells": [
  {
   "cell_type": "markdown",
   "id": "a8056ac5",
   "metadata": {},
   "source": [
    "# Historical VaR"
   ]
  },
  {
   "cell_type": "markdown",
   "id": "e28b7483",
   "metadata": {},
   "source": [
    "### Setting Time Range and Tickers"
   ]
  },
  {
   "cell_type": "markdown",
   "id": "271700c1",
   "metadata": {},
   "source": [
    "First, let’s set the time range to a certain number of years and create a list of tickers we want to analyze. In this example, we’ll analyze the past 15 years of stock data."
   ]
  },
  {
   "cell_type": "code",
   "execution_count": 1,
   "id": "c89d5096",
   "metadata": {},
   "outputs": [],
   "source": [
    "import numpy as np\n",
    "import pandas as pd\n",
    "import datetime as dt\n",
    "import yfinance as yf\n",
    "import matplotlib.pyplot as plt\n",
    "\n",
    "years = 15\n",
    "\n",
    "endDate = dt.datetime.now()\n",
    "startDate = endDate - dt.timedelta(days=365*years)\n",
    "\n",
    "tickers = ['SPY', 'BND', 'GLD', 'QQQ', 'VTI']"
   ]
  },
  {
   "cell_type": "markdown",
   "id": "910fceba",
   "metadata": {},
   "source": [
    "### Downloading Adjusted Close Prices"
   ]
  },
  {
   "cell_type": "markdown",
   "id": "21cd190e",
   "metadata": {},
   "source": [
    "Next, we will download the daily adjusted close prices for each ticker in our list using the yfinance library."
   ]
  },
  {
   "cell_type": "code",
   "execution_count": 2,
   "id": "b1210ad7",
   "metadata": {},
   "outputs": [
    {
     "name": "stdout",
     "output_type": "stream",
     "text": [
      "[*********************100%%**********************]  1 of 1 completed\n",
      "[*********************100%%**********************]  1 of 1 completed\n",
      "[*********************100%%**********************]  1 of 1 completed\n",
      "[*********************100%%**********************]  1 of 1 completed\n",
      "[*********************100%%**********************]  1 of 1 completed\n",
      "                   SPY        BND         GLD         QQQ         VTI\n",
      "Date                                                                 \n",
      "2008-10-14   74.726990  47.714622   82.199997   29.400581   37.386940\n",
      "2008-10-15   67.370262  47.423676   83.309998   26.767569   33.890179\n",
      "2008-10-16   70.176735  47.417194   79.290001   28.219664   35.450165\n",
      "2008-10-17   69.757622  47.675842   77.209999   28.254656   35.118557\n",
      "2008-10-20   73.948639  47.656418   78.500000   29.041933   36.919704\n",
      "...                ...        ...         ...         ...         ...\n",
      "2023-10-04  424.660004  69.000000  169.139999  359.750000  210.559998\n",
      "2023-10-05  424.500000  69.050003  168.830002  358.690002  210.449997\n",
      "2023-10-06  429.540009  68.779999  169.699997  364.700012  212.960007\n",
      "2023-10-09  432.290009  69.480003  172.820007  366.559998  214.300003\n",
      "2023-10-10  434.540009  69.410004  172.529999  368.589996  215.630005\n",
      "\n",
      "[3773 rows x 5 columns]\n"
     ]
    }
   ],
   "source": [
    "adj_close_df = pd.DataFrame()\n",
    "for ticker in tickers:\n",
    "    data = yf.download(ticker, start=startDate, end=endDate)\n",
    "    adj_close_df[ticker] = data['Adj Close']\n",
    "\n",
    "print(adj_close_df)"
   ]
  },
  {
   "cell_type": "markdown",
   "id": "725912ff",
   "metadata": {},
   "source": [
    "### Calculating Daily Log Returns and Dropping NAs"
   ]
  },
  {
   "cell_type": "markdown",
   "id": "4e391cf7",
   "metadata": {},
   "source": [
    "Once we have the adjusted close prices, we can calculate the daily log returns for each stock and drop any NAs from the resulting DataFrame."
   ]
  },
  {
   "cell_type": "code",
   "execution_count": 3,
   "id": "8965cae8",
   "metadata": {},
   "outputs": [
    {
     "name": "stdout",
     "output_type": "stream",
     "text": [
      "                 SPY       BND       GLD       QQQ       VTI\n",
      "Date                                                        \n",
      "2008-10-15 -0.103638 -0.006116  0.013413 -0.093823 -0.098196\n",
      "2008-10-16  0.040813 -0.000137 -0.049457  0.052828  0.045003\n",
      "2008-10-17 -0.005990  0.005440 -0.026583  0.001239 -0.009398\n",
      "2008-10-20  0.058344 -0.000408  0.016570  0.027483  0.050016\n",
      "2008-10-21 -0.030310  0.016950 -0.031971 -0.053197 -0.030676\n",
      "...              ...       ...       ...       ...       ...\n",
      "2023-10-04  0.007256  0.006543 -0.000118  0.013517  0.007197\n",
      "2023-10-05 -0.000377  0.000724 -0.001834 -0.002951 -0.000523\n",
      "2023-10-06  0.011803 -0.003918  0.005140  0.016617  0.011856\n",
      "2023-10-09  0.006382  0.010126  0.018218  0.005087  0.006273\n",
      "2023-10-10  0.005191 -0.001008 -0.001680  0.005523  0.006187\n",
      "\n",
      "[3772 rows x 5 columns]\n"
     ]
    }
   ],
   "source": [
    "log_returns = np.log(adj_close_df / adj_close_df.shift(1))\n",
    "log_returns = log_returns.dropna()\n",
    "print(log_returns)"
   ]
  },
  {
   "cell_type": "markdown",
   "id": "7f0883a8",
   "metadata": {},
   "source": [
    "### Creating a Weighted Portfolio"
   ]
  },
  {
   "cell_type": "markdown",
   "id": "ad070582",
   "metadata": {},
   "source": [
    "Now, we’ll create a weighted portfolio with a total value of $1,000,000."
   ]
  },
  {
   "cell_type": "code",
   "execution_count": 4,
   "id": "85b4e9d9",
   "metadata": {},
   "outputs": [
    {
     "name": "stdout",
     "output_type": "stream",
     "text": [
      "[0.1  0.15 0.2  0.25 0.3 ]\n"
     ]
    }
   ],
   "source": [
    "portfolio_value = 1000000\n",
    "\n",
    "weights = np.array([0.1, 0.15, 0.20, 0.25, 0.30])\n",
    "\n",
    "#weights = np.array([1/len(tickers)]*len(tickers))\n",
    "print(weights)"
   ]
  },
  {
   "cell_type": "markdown",
   "id": "dd163c75",
   "metadata": {},
   "source": [
    "### Calculating Historical Portfolio Returns"
   ]
  },
  {
   "cell_type": "markdown",
   "id": "3da52be3",
   "metadata": {},
   "source": [
    "With the weights defined, we can now calculate the historical portfolio returns."
   ]
  },
  {
   "cell_type": "code",
   "execution_count": 5,
   "id": "191d81bb",
   "metadata": {},
   "outputs": [
    {
     "name": "stdout",
     "output_type": "stream",
     "text": [
      "Date\n",
      "2008-10-15   -0.061513\n",
      "2008-10-16    0.020877\n",
      "2008-10-17   -0.007609\n",
      "2008-10-20    0.030963\n",
      "2008-10-21   -0.029385\n",
      "                ...   \n",
      "2023-10-04    0.007222\n",
      "2023-10-05   -0.001190\n",
      "2023-10-06    0.009332\n",
      "2023-10-09    0.008954\n",
      "2023-10-10    0.003269\n",
      "Length: 3772, dtype: float64\n"
     ]
    }
   ],
   "source": [
    "historical_returns = (log_returns * weights).sum(axis =1)\n",
    "print(historical_returns)"
   ]
  },
  {
   "cell_type": "markdown",
   "id": "472cb07a",
   "metadata": {},
   "source": [
    "### Finding X-Day Historical Returns"
   ]
  },
  {
   "cell_type": "markdown",
   "id": "0bdd28d3",
   "metadata": {},
   "source": [
    "Next, we’ll find the X-day historical returns. In this example, we’ll use a 1-day window."
   ]
  },
  {
   "cell_type": "code",
   "execution_count": 6,
   "id": "5c3cf789",
   "metadata": {},
   "outputs": [
    {
     "name": "stdout",
     "output_type": "stream",
     "text": [
      "Date\n",
      "2008-10-15   -0.061513\n",
      "2008-10-16    0.020877\n",
      "2008-10-17   -0.007609\n",
      "2008-10-20    0.030963\n",
      "2008-10-21   -0.029385\n",
      "                ...   \n",
      "2023-10-04    0.007222\n",
      "2023-10-05   -0.001190\n",
      "2023-10-06    0.009332\n",
      "2023-10-09    0.008954\n",
      "2023-10-10    0.003269\n",
      "Length: 3772, dtype: float64\n"
     ]
    }
   ],
   "source": [
    "days = 1\n",
    "\n",
    "range_returns = historical_returns.rolling(window = days).sum()\n",
    "range_returns = range_returns.dropna()\n",
    "print(range_returns)"
   ]
  },
  {
   "cell_type": "markdown",
   "id": "cbfa1cd9",
   "metadata": {},
   "source": [
    "### Calculating VaR Using the Historical Method"
   ]
  },
  {
   "cell_type": "markdown",
   "id": "406db184",
   "metadata": {},
   "source": [
    "Now, we can specify a confidence interval and calculate the Value at Risk (VaR) using the historical method."
   ]
  },
  {
   "cell_type": "code",
   "execution_count": 7,
   "id": "be7ce43d",
   "metadata": {},
   "outputs": [],
   "source": [
    "#confidence_interval = 0.95\n",
    "#VaR = -np.percentile(range_returns, 100 - (confidence_interval * 100))*portfolio_value\n",
    "#print(VaR)"
   ]
  },
  {
   "cell_type": "code",
   "execution_count": 8,
   "id": "aa670caf",
   "metadata": {},
   "outputs": [],
   "source": [
    "confidence_interval = [0.90, 0.95, 0.99]\n",
    "significance = [10,5,1]\n",
    "\n",
    "\n",
    "VaRs = []\n",
    "for ci in significance:\n",
    "    VaR = -np.percentile(range_returns, significance)*portfolio_value\n",
    "    VaRs.append(VaR)"
   ]
  },
  {
   "cell_type": "code",
   "execution_count": 9,
   "id": "4607fe78",
   "metadata": {},
   "outputs": [
    {
     "data": {
      "text/plain": [
       "array([ 8911.83691985, 13287.24071578, 25867.73273311])"
      ]
     },
     "execution_count": 9,
     "metadata": {},
     "output_type": "execute_result"
    }
   ],
   "source": [
    "VaR"
   ]
  },
  {
   "cell_type": "code",
   "execution_count": 10,
   "id": "eb78d71d",
   "metadata": {},
   "outputs": [],
   "source": [
    "Historical_VaR=VaR"
   ]
  },
  {
   "cell_type": "code",
   "execution_count": 11,
   "id": "f5da2ad7",
   "metadata": {},
   "outputs": [
    {
     "name": "stdout",
     "output_type": "stream",
     "text": [
      "Confidence Level     Value at Risk       \n",
      "----------------------------------------\n",
      "    90%:          $  8,911.84\n",
      "    95%:          $ 13,287.24\n",
      "    99%:          $ 25,867.73\n"
     ]
    }
   ],
   "source": [
    "print(f'{\"Confidence Level\":<20} {\"Value at Risk\":<20}')\n",
    "print('-' * 40)\n",
    "\n",
    "\n",
    "for ci, VaR in zip(confidence_interval, VaR):\n",
    "    print(f'{ci * 100:>6.0f}%: {\"\":<8} ${VaR.astype(float):>10,.2f}')\n",
    "    #print(f'{ci * 100:>6.0f}%: {\"\":<8} ${VaR:>10,.2f}')"
   ]
  },
  {
   "cell_type": "markdown",
   "id": "9b9fa95c",
   "metadata": {},
   "source": [
    "### Plotting the Results of the Historical Returns"
   ]
  },
  {
   "cell_type": "markdown",
   "id": "3e3765e5",
   "metadata": {},
   "source": [
    "Finally, let’s plot the results of the historical returns to visualize the distribution of portfolio returns and the VaR at the specified confidence level."
   ]
  },
  {
   "cell_type": "code",
   "execution_count": 12,
   "id": "08e693dc",
   "metadata": {},
   "outputs": [],
   "source": [
    "#return_window = days\n",
    "#range_returns = historical_returns.rolling(window=return_window).sum()\n",
    "#range_returns = range_returns.dropna()\n",
    "\n",
    "#range_returns_dollar = range_returns * portfolio_value\n",
    "\n",
    "#plt.hist(range_returns_dollar.dropna(), bins=50, density=True)\n",
    "#plt.xlabel(f'{return_window}-Day Portfolio Return (Dollar Value)')\n",
    "#plt.ylabel('Frequency')\n",
    "#plt.title(f'Distribution of Portfolio {return_window}-Day Returns (Dollar Value)')\n",
    "#plt.axvline(-VaR, color='r', linestyle='dashed', linewidth=2, label=f'VaR at {confidence_interval:.0%} confidence level')\n",
    "#plt.legend()\n",
    "#plt.show()"
   ]
  },
  {
   "cell_type": "code",
   "execution_count": 13,
   "id": "df9fcd64",
   "metadata": {},
   "outputs": [
    {
     "data": {
      "image/png": "[encoded data removed]",
      "text/plain": [
       "<Figure size 432x288 with 1 Axes>"
      ]
     },
     "metadata": {
      "needs_background": "light"
     },
     "output_type": "display_data"
    }
   ],
   "source": [
    "#return_window = days\n",
    "#range_returns = historical_returns.rolling(window=return_window).sum()\n",
    "#range_returns = range_returns.dropna()\n",
    "\n",
    "range_returns_dollar = range_returns * portfolio_value\n",
    "\n",
    "# Plot the histogram\n",
    "plt.hist(range_returns_dollar, bins=50, density=True, alpha=0.5, label=f'{days}-Day Returns')\n",
    "\n",
    "# Add vertical lines representing VaR at each confidence level\n",
    "for ci, VaR_ in zip(confidence_interval, VaRs):\n",
    "    plt.axvline(x=-VaR, linestyle='--', color='r', label='VaR at {}% Confidence'.format(int(ci * 100)))\n",
    "\n",
    "plt.xlabel(f'{days}-Day Portfolio Return ($)')\n",
    "plt.ylabel('Frequency')\n",
    "plt.title(f'Distribution of Portfolio {days}-Day Returns and Parametric VaR Estimates')\n",
    "plt.legend()\n",
    "plt.show()"
   ]
  },
  {
   "cell_type": "markdown",
   "id": "30fa6ef4",
   "metadata": {},
   "source": [
    "In a Five-Day Period at a 95 level of confidence the worst thing that could happen at worth fifth percentile is we'd lose about 25861 usd."
   ]
  },
  {
   "cell_type": "markdown",
   "id": "5d1e620d",
   "metadata": {},
   "source": [
    "# Parametric VaR"
   ]
  },
  {
   "cell_type": "markdown",
   "id": "7e14d604",
   "metadata": {},
   "source": [
    "We will find the rolling sum of historical returns for a specified number of days:"
   ]
  },
  {
   "cell_type": "code",
   "execution_count": 14,
   "id": "270a2417",
   "metadata": {},
   "outputs": [],
   "source": [
    "days = 1\n",
    "historical_x_day_returns = historical_returns.rolling(window=days).sum()"
   ]
  },
  {
   "cell_type": "markdown",
   "id": "b054076a",
   "metadata": {},
   "source": [
    "### Create Covariance Matrix and Calculate Portfolio Standard Deviation"
   ]
  },
  {
   "cell_type": "markdown",
   "id": "ee1ef2ff",
   "metadata": {},
   "source": [
    "Now, we will create a covariance matrix for all the securities and calculate the portfolio standard deviation:"
   ]
  },
  {
   "cell_type": "code",
   "execution_count": 15,
   "id": "7b6ec233",
   "metadata": {},
   "outputs": [],
   "source": [
    "cov_matrix = log_returns.cov() * 252 #252 because it's 252 days in trade\n",
    "portfolio_std_dev = np.sqrt(weights.T @ cov_matrix @ weights)"
   ]
  },
  {
   "cell_type": "markdown",
   "id": "ced9e5dc",
   "metadata": {},
   "source": [
    "### Calculate VaR at Different Confidence Levels"
   ]
  },
  {
   "cell_type": "markdown",
   "id": "6c4f1027",
   "metadata": {},
   "source": [
    "We will calculate the Value at Risk (VaR) at different confidence levels:"
   ]
  },
  {
   "cell_type": "code",
   "execution_count": 16,
   "id": "2b588a25",
   "metadata": {},
   "outputs": [
    {
     "name": "stderr",
     "output_type": "stream",
     "text": [
      "C:\\Users\\edfra\\anaconda3\\lib\\site-packages\\scipy\\__init__.py:138: UserWarning: A NumPy version >=1.16.5 and <1.23.0 is required for this version of SciPy (detected version 1.24.4)\n",
      "  warnings.warn(f\"A NumPy version >={np_minversion} and <{np_maxversion} is required for this version of \"\n"
     ]
    }
   ],
   "source": [
    "from scipy.stats import norm\n",
    "\n",
    "confidence_levels = [0.90, 0.95, 0.99]\n",
    "\n",
    "VaRs = []\n",
    "for cl in confidence_levels:\n",
    "    VaR = portfolio_value * portfolio_std_dev * norm.ppf(cl) * np.sqrt(days / 252)\n",
    "    VaRs.append(VaR)"
   ]
  },
  {
   "cell_type": "markdown",
   "id": "e13b94a5",
   "metadata": {},
   "source": [
    "### Print VaR Results"
   ]
  },
  {
   "cell_type": "markdown",
   "id": "868075a1",
   "metadata": {},
   "source": [
    "Let’s print the VaR results for each confidence level:"
   ]
  },
  {
   "cell_type": "code",
   "execution_count": 17,
   "id": "afc476f2",
   "metadata": {},
   "outputs": [
    {
     "name": "stdout",
     "output_type": "stream",
     "text": [
      "Confidence Level     Value at Risk       \n",
      "----------------------------------------\n",
      "    90%:          $ 11,278.93\n",
      "    95%:          $ 14,476.35\n",
      "    99%:          $ 20,474.17\n"
     ]
    }
   ],
   "source": [
    "print(f'{\"Confidence Level\":<20} {\"Value at Risk\":<20}')\n",
    "print('-' * 40)\n",
    "\n",
    "for cl, VaR in zip(confidence_levels, VaRs):\n",
    "    print(f'{cl * 100:>6.0f}%: {\"\":<8} ${VaR:>10,.2f}')"
   ]
  },
  {
   "cell_type": "markdown",
   "id": "e6a67c5e",
   "metadata": {},
   "source": [
    "### Plot the Distribution of Portfolio Returns and Parametric VaR Estimates"
   ]
  },
  {
   "cell_type": "markdown",
   "id": "387151b8",
   "metadata": {},
   "source": [
    "Finally, we will plot the distribution of the X-day portfolio returns and the parametric VaR estimates:"
   ]
  },
  {
   "cell_type": "code",
   "execution_count": 18,
   "id": "7c0e4ad3",
   "metadata": {},
   "outputs": [
    {
     "data": {
      "image/png": "[encoded data removed]",
      "text/plain": [
       "<Figure size 432x288 with 1 Axes>"
      ]
     },
     "metadata": {
      "needs_background": "light"
     },
     "output_type": "display_data"
    }
   ],
   "source": [
    "# Convert returns to dollar values for the histogram\n",
    "historical_x_day_returns_dollar = historical_x_day_returns * portfolio_value\n",
    "\n",
    "# Plot the histogram\n",
    "plt.hist(historical_x_day_returns_dollar, bins=50, density=True, alpha=0.5, label=f'{days}-Day Returns')\n",
    "\n",
    "# Add vertical lines representing VaR at each confidence level\n",
    "for cl, VaR in zip(confidence_levels, VaRs):\n",
    "    plt.axvline(x=-VaR, linestyle='--', color='r', label='VaR at {}% Confidence'.format(int(cl * 100)))\n",
    "\n",
    "plt.xlabel(f'{days}-Day Portfolio Return ($)')\n",
    "plt.ylabel('Frequency')\n",
    "plt.title(f'Distribution of Portfolio {days}-Day Returns and Parametric VaR Estimates')\n",
    "plt.legend()\n",
    "plt.show()"
   ]
  },
  {
   "cell_type": "markdown",
   "id": "27db0b50",
   "metadata": {},
   "source": [
    "# cVaR"
   ]
  },
  {
   "cell_type": "code",
   "execution_count": 19,
   "id": "b03acbb4",
   "metadata": {},
   "outputs": [],
   "source": [
    "con=[0,1,2]\n",
    "Historical_VaR= Historical_VaR/1000000\n",
    "cVaRs = []\n",
    "for c in con:\n",
    "    cVaR = -np.mean(range_returns[range_returns < -Historical_VaR[c]])*portfolio_value\n",
    "    cVaRs.append(cVaR)"
   ]
  },
  {
   "cell_type": "code",
   "execution_count": 20,
   "id": "9d5f5e54",
   "metadata": {},
   "outputs": [
    {
     "name": "stdout",
     "output_type": "stream",
     "text": [
      "Confidence Level     Value at Risk       \n",
      "----------------------------------------\n",
      "    90%:          $ 16,105.87\n",
      "    95%:          $ 21,441.57\n",
      "    99%:          $ 36,532.71\n"
     ]
    }
   ],
   "source": [
    "print(f'{\"Confidence Level\":<20} {\"Value at Risk\":<20}')\n",
    "print('-' * 40)\n",
    "\n",
    "for cl, cVaR in zip(confidence_levels, cVaRs):\n",
    "    print(f'{cl * 100:>6.0f}%: {\"\":<8} ${cVaR:>10,.2f}')"
   ]
  },
  {
   "cell_type": "code",
   "execution_count": 21,
   "id": "abdb3e67",
   "metadata": {},
   "outputs": [
    {
     "data": {
      "image/png": "[encoded data removed]",
      "text/plain": [
       "<Figure size 432x288 with 1 Axes>"
      ]
     },
     "metadata": {
      "needs_background": "light"
     },
     "output_type": "display_data"
    }
   ],
   "source": [
    "range_returns_dollar = range_returns * portfolio_value\n",
    "\n",
    "# Plot the histogram\n",
    "plt.hist(range_returns_dollar, bins=50, density=True, alpha=0.5, label=f'{days}-Day Returns')\n",
    "\n",
    "# Add vertical lines representing VaR at each confidence level\n",
    "for ci, cVaR in zip(confidence_interval, cVaRs):\n",
    "    plt.axvline(x=-cVaR, linestyle='--', color='r', label='cVaR at {}% Confidence'.format(int(ci * 100)))\n",
    "\n",
    "plt.xlabel(f'{days}-Day Portfolio Return ($)')\n",
    "plt.ylabel('Frequency')\n",
    "plt.title(f'Distribution of Portfolio {days}-Day Returns and Parametric VaR Estimates')\n",
    "plt.legend()\n",
    "plt.show()"
   ]
  }
 ],
 "metadata": {
  "kernelspec": {
   "display_name": "Python 3",
   "language": "python",
   "name": "python3"
  },
  "language_info": {
   "codemirror_mode": {
    "name": "ipython",
    "version": 3
   },
   "file_extension": ".py",
   "mimetype": "text/x-python",
   "name": "python",
   "nbconvert_exporter": "python",
   "pygments_lexer": "ipython3",
   "version": "3.8.8"
  }
 },
 "nbformat": 4,
 "nbformat_minor": 5
}
